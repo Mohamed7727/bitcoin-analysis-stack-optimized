{
 "cells": [
  {
   "cell_type": "markdown",
   "metadata": {},
   "source": [
    "# Bitcoin Analysis Stack - Getting Started\n",
    "\n",
    "This notebook demonstrates basic usage of the optimized Bitcoin Analysis Stack with shared blockchain storage."
   ]
  },
  {
   "cell_type": "markdown",
   "metadata": {},
   "source": [
    "## 1. Connect to Bitcoin Core"
   ]
  },
  {
   "cell_type": "code",
   "execution_count": null,
   "metadata": {},
   "outputs": [],
   "source": [
    "import os\n",
    "from bitcoinrpc.authproxy import AuthServiceProxy\n",
    "\n",
    "# Connect to Bitcoin Core\n",
    "btc_host = os.getenv('BITCOIN_RPC_HOST', 'bitcoin')\n",
    "btc_port = os.getenv('BITCOIN_RPC_PORT', '8332')\n",
    "btc_user = os.getenv('BITCOIN_RPC_USER', 'btcuser')\n",
    "btc_pass = os.getenv('BITCOIN_RPC_PASSWORD', 'btcpass')\n",
    "\n",
    "btc = AuthServiceProxy(f\"http://{btc_user}:{btc_pass}@{btc_host}:{btc_port}\")\n",
    "\n",
    "# Get blockchain info\n",
    "info = btc.getblockchaininfo()\n",
    "print(f\"Chain: {info['chain']}\")\n",
    "print(f\"Blocks: {info['blocks']:,}\")\n",
    "print(f\"Size on disk: {info['size_on_disk'] / 1e9:.2f} GB\")"
   ]
  },
  {
   "cell_type": "markdown",
   "metadata": {},
   "source": [
    "## 2. Connect to Neo4j Graph Database"
   ]
  },
  {
   "cell_type": "code",
   "execution_count": null,
   "metadata": {},
   "outputs": [],
   "source": [
    "from neo4j import GraphDatabase\n",
    "\n",
    "# Connect to Neo4j\n",
    "neo4j_uri = os.getenv('NEO4J_URI', 'bolt://neo4j:7687')\n",
    "neo4j_user = os.getenv('NEO4J_USER', 'neo4j')\n",
    "neo4j_pass = os.getenv('NEO4J_PASSWORD', 'bitcoin123')\n",
    "\n",
    "driver = GraphDatabase.driver(neo4j_uri, auth=(neo4j_user, neo4j_pass))\n",
    "\n",
    "# Test connection\n",
    "with driver.session() as session:\n",
    "    result = session.run(\"\"\"\n",
    "        MATCH (b:Block)\n",
    "        RETURN count(b) as block_count\n",
    "    \"\"\")\n",
    "    record = result.single()\n",
    "    print(f\"Blocks in Neo4j: {record['block_count']:,}\")"
   ]
  },
  {
   "cell_type": "markdown",
   "metadata": {},
   "source": [
    "## 3. Query GraphQL API"
   ]
  },
  {
   "cell_type": "code",
   "execution_count": null,
   "metadata": {},
   "outputs": [],
   "source": [
    "import requests\n",
    "\n",
    "graphql_endpoint = os.getenv('GRAPHQL_ENDPOINT', 'http://graphql:8000/graphql')\n",
    "\n",
    "# Query blockchain info\n",
    "query = \"\"\"\n",
    "query {\n",
    "  blockchainInfo {\n",
    "    blocks\n",
    "    chain\n",
    "    difficulty\n",
    "    sizeOnDisk\n",
    "  }\n",
    "}\n",
    "\"\"\"\n",
    "\n",
    "response = requests.post(graphql_endpoint, json={'query': query})\n",
    "data = response.json()\n",
    "print(data)"
   ]
  },
  {
   "cell_type": "markdown",
   "metadata": {},
   "source": [
    "## 4. Address Analysis Example"
   ]
  },
  {
   "cell_type": "code",
   "execution_count": null,
   "metadata": {},
   "outputs": [],
   "source": [
    "# Analyze Satoshi's address (Genesis block coinbase)\n",
    "address = \"1A1zP1eP5QGefi2DMPTfTL5SLmv7DivfNa\"\n",
    "\n",
    "with driver.session() as session:\n",
    "    result = session.run(\"\"\"\n",
    "        MATCH (a:Address {address: $address})\n",
    "        OPTIONAL MATCH (a)<-[r:OUTPUTS_TO]-(:Transaction)\n",
    "        RETURN a.address as address,\n",
    "               a.first_seen as first_seen,\n",
    "               sum(r.value) as total_received,\n",
    "               count(r) as tx_count\n",
    "    \"\"\", address=address)\n",
    "    \n",
    "    record = result.single()\n",
    "    if record and record['address']:\n",
    "        print(f\"Address: {record['address']}\")\n",
    "        print(f\"First Seen: {record['first_seen']}\")\n",
    "        print(f\"Total Received: {record['total_received'] or 0:.8f} BTC\")\n",
    "        print(f\"Transaction Count: {record['tx_count'] or 0}\")\n",
    "    else:\n",
    "        print(\"Address not found in database (may not be imported yet)\")"
   ]
  },
  {
   "cell_type": "markdown",
   "metadata": {},
   "source": [
    "## 5. Transaction Flow Analysis"
   ]
  },
  {
   "cell_type": "code",
   "execution_count": null,
   "metadata": {},
   "outputs": [],
   "source": [
    "# Find most active addresses\n",
    "with driver.session() as session:\n",
    "    result = session.run(\"\"\"\n",
    "        MATCH (a:Address)<-[r:OUTPUTS_TO]-(t:Transaction)\n",
    "        RETURN a.address as address,\n",
    "               count(t) as tx_count,\n",
    "               sum(r.value) as total_received\n",
    "        ORDER BY tx_count DESC\n",
    "        LIMIT 10\n",
    "    \"\"\")\n",
    "    \n",
    "    print(\"Top 10 Most Active Addresses:\")\n",
    "    print(\"-\" * 80)\n",
    "    for i, record in enumerate(result, 1):\n",
    "        print(f\"{i}. {record['address'][:20]}... | \"\n",
    "              f\"Txs: {record['tx_count']:,} | \"\n",
    "              f\"Received: {record['total_received']:.2f} BTC\")"
   ]
  },
  {
   "cell_type": "markdown",
   "metadata": {},
   "source": [
    "## 6. Check Storage Optimization\n",
    "\n",
    "This stack uses a single shared blockchain volume, reducing storage requirements significantly."
   ]
  },
  {
   "cell_type": "code",
   "execution_count": null,
   "metadata": {},
   "outputs": [],
   "source": [
    "import subprocess\n",
    "\n",
    "# Check docker volumes\n",
    "result = subprocess.run(['docker', 'volume', 'ls'], capture_output=True, text=True)\n",
    "print(\"Docker Volumes:\")\n",
    "print(result.stdout)\n",
    "\n",
    "# Note: All services share bitcoin_data volume (read-only for most)\n",
    "# Only Bitcoin Core writes to it, others read\n",
    "# This saves ~600GB compared to having separate copies"
   ]
  },
  {
   "cell_type": "markdown",
   "metadata": {},
   "source": [
    "## 7. Redis Cache Status"
   ]
  },
  {
   "cell_type": "code",
   "execution_count": null,
   "metadata": {},
   "outputs": [],
   "source": [
    "import redis\n",
    "\n",
    "# Connect to Redis\n",
    "redis_host = os.getenv('REDIS_HOST', 'redis')\n",
    "redis_port = int(os.getenv('REDIS_PORT', '6379'))\n",
    "\n",
    "r = redis.Redis(host=redis_host, port=redis_port, decode_responses=True)\n",
    "\n",
    "# Get cache info\n",
    "info = r.info('memory')\n",
    "print(f\"Redis Memory Used: {info['used_memory_human']}\")\n",
    "print(f\"Redis Keys: {r.dbsize()}\")\n",
    "\n",
    "# The GraphQL API and importer use Redis for caching\n",
    "# This significantly reduces RPC calls to Bitcoin Core"
   ]
  },
  {
   "cell_type": "markdown",
   "metadata": {},
   "source": [
    "## Next Steps\n",
    "\n",
    "- Explore address clustering algorithms\n",
    "- Visualize transaction graphs with NetworkX or Pyvis\n",
    "- Create custom analysis scripts\n",
    "- Query the GraphQL API for complex patterns"
   ]
  }
 ],
 "metadata": {
  "kernelspec": {
   "display_name": "Python 3",
   "language": "python",
   "name": "python3"
  },
  "language_info": {
   "codemirror_mode": {
    "name": "ipython",
    "version": 3
   },
   "file_extension": ".py",
   "mimetype": "text/x-python",
   "name": "python",
   "nbconvert_exporter": "python",
   "pygments_lexer": "ipython3",
   "version": "3.11.0"
  }
 },
 "nbformat": 4,
 "nbformat_minor": 4
}
